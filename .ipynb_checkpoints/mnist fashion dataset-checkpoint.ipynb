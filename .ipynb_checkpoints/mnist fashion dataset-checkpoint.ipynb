{
 "cells": [
  {
   "cell_type": "markdown",
   "id": "ae38c783-7093-4089-9deb-e094c33f4aa8",
   "metadata": {},
   "source": [
    "### Import Libraries"
   ]
  },
  {
   "cell_type": "code",
   "execution_count": 1,
   "id": "74c491db-ba5b-4df6-8dc4-213027103af5",
   "metadata": {},
   "outputs": [],
   "source": [
    "import tensorflow.keras.datasets as data\n",
    "import tensorflow as tf"
   ]
  },
  {
   "cell_type": "markdown",
   "id": "41c9a35b-b818-4012-b98f-7eee21eac0af",
   "metadata": {},
   "source": [
    "### Load data"
   ]
  },
  {
   "cell_type": "code",
   "execution_count": 2,
   "id": "92f7344a-1346-4d04-ab72-33316b5cac17",
   "metadata": {},
   "outputs": [],
   "source": [
    "fashion = data.fashion_mnist"
   ]
  },
  {
   "cell_type": "markdown",
   "id": "ec16b30c-49d9-4727-9ca7-cd5f16f184f2",
   "metadata": {},
   "source": [
    "## Split data into training and testing"
   ]
  },
  {
   "cell_type": "code",
   "execution_count": 3,
   "id": "1aa93c06-e349-4d20-9571-b8793260db7c",
   "metadata": {},
   "outputs": [],
   "source": [
    "(train_images, train_labels), (test_images,test_labels)  = fashion.load_data()"
   ]
  },
  {
   "cell_type": "markdown",
   "id": "f495a058-7f98-46ff-8979-5bc5a4873612",
   "metadata": {},
   "source": [
    "### Built model"
   ]
  },
  {
   "cell_type": "code",
   "execution_count": 4,
   "id": "3528fdfb-d41a-4664-b77a-2fdc638bf8ac",
   "metadata": {},
   "outputs": [],
   "source": [
    "model = tf.keras.Sequential(\n",
    "    [\n",
    "        tf.keras.Input(shape=(28,28)),\n",
    "        tf.keras.layers.Flatten(),\n",
    "        tf.keras.layers.Dense(128, activation=tf.nn.relu),\n",
    "        tf.keras.layers.Dense(10, activation=tf.nn.softmax)\n",
    "    ]\n",
    ")"
   ]
  },
  {
   "cell_type": "code",
   "execution_count": null,
   "id": "cc385ebb-138a-4f42-8f38-8ff9d6bbfa1e",
   "metadata": {},
   "outputs": [],
   "source": []
  }
 ],
 "metadata": {
  "kernelspec": {
   "display_name": "Python 3 (ipykernel)",
   "language": "python",
   "name": "python3"
  },
  "language_info": {
   "codemirror_mode": {
    "name": "ipython",
    "version": 3
   },
   "file_extension": ".py",
   "mimetype": "text/x-python",
   "name": "python",
   "nbconvert_exporter": "python",
   "pygments_lexer": "ipython3",
   "version": "3.12.4"
  }
 },
 "nbformat": 4,
 "nbformat_minor": 5
}
